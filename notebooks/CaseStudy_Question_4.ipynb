{
 "cells": [
  {
   "cell_type": "code",
   "execution_count": 4,
   "metadata": {},
   "outputs": [
    {
     "data": {
      "image/png": "[encoded data removed]",
      "text/plain": [
       "<Figure size 432x288 with 1 Axes>"
      ]
     },
     "metadata": {
      "needs_background": "light"
     },
     "output_type": "display_data"
    },
    {
     "name": "stdout",
     "output_type": "stream",
     "text": [
      "Indian Angel Network 33\n",
      "Rajan Anandan 23\n",
      "LetsVenture 16\n",
      "Anupam Mittal 16\n",
      "Kunal Shah 14\n"
     ]
    }
   ],
   "source": [
    "# Open and read data file as specified in the question\n",
    "# Print the required output in given format\n",
    "import pandas as pd\n",
    "import numpy as np\n",
    "import collections\n",
    "import matplotlib.pyplot as plt\n",
    "file=pd.read_csv('startup_funding.csv')\n",
    "#file=pd.read_csv(r\"C:\\Users\\Dell\\Desktop\\startup_funding.csv\")\n",
    "df=file.copy()\n",
    "#Correcting all the missing and incorrect names in dataset.\n",
    "\n",
    "df['StartupName'].replace('Flipkart.com','Flipkart',inplace=True)\n",
    "df['StartupName'].replace('Ola Cabs','Ola',inplace=True)\n",
    "df['StartupName'].replace('Olacabs','Ola',inplace=True)\n",
    "df['StartupName'].replace('Oyo Rooms','Oyo',inplace=True)\n",
    "df['StartupName'].replace('Oyorooms','Oyo',inplace=True)\n",
    "df['StartupName'].replace('OyoRooms','Oyo',inplace=True)\n",
    "df['StartupName'].replace('OYO Rooms','Oyo',inplace=True)\n",
    "df['StartupName'].replace('Paytm Marketplace','Paytm',inplace=True)\n",
    "df[\"InvestmentType\"].replace(\"Crowd funding\",\"Crowd Funding\",inplace=True)\n",
    "df[\"InvestmentType\"].replace(\"PrivateEquity\",\"Private Equity\",inplace=True)\n",
    "df[\"InvestmentType\"].replace(\"SeedFunding\",\"Seed Funding\",inplace=True)\n",
    "df['InvestorsName'].replace('Undisclosed investors','Undisclosed Investors',inplace=True)\n",
    "df['InvestorsName'].replace('undisclosed investors','Undisclosed Investors',inplace=True)\n",
    "df['InvestorsName'].replace('Undisclosed Investor','Undisclosed Investors',inplace=True)\n",
    "df['InvestorsName'].replace('Undisclosed','Undisclosed Investors',inplace=True)\n",
    "df['InvestorsName'].replace('Undisclosed investor','Undisclosed Investors',inplace=True)\n",
    "df['InvestorsName'].replace('Undisclosed Investors','',inplace=True)\n",
    "df['StartupName'].fillna('Unknown',inplace=True)\n",
    "df['InvestorsName'].fillna('Unknown',inplace=True)\n",
    "df=df[(df[\"InvestmentType\"]==\"Crowd Funding\")|(df[\"InvestmentType\"]==\"Seed Funding\")]\n",
    "df.reset_index(inplace = True)#reseting the indexes\n",
    "ds=df['StartupName']\n",
    "di=df['InvestorsName']\n",
    "d={}\n",
    "i=0\n",
    "for ele in di:\n",
    "    p=str(ele)\n",
    "    q=p.split(\",\")\n",
    "    for e in q:\n",
    "        e=e.strip()\n",
    "        if e in d:\n",
    "            d[e]+=[ds[i]]\n",
    "        else:\n",
    "            d[e]=[ds[i]]\n",
    "    i=i+1\n",
    "\n",
    "for ele in d:\n",
    "    d[ele]=len(set(d[ele]))\n",
    "investor=[]\n",
    "count=[]\n",
    "for i in range(5):\n",
    "    max=-1\n",
    "    for ele in d:\n",
    "        if ele!=\"\":\n",
    "            if max<d[ele]:\n",
    "                max=d[ele]\n",
    "                ct=ele\n",
    "    count.append(max)\n",
    "    investor.append(ct)\n",
    "    del d[ct]\n",
    "plt.title(\"Investments of Non Private Equity\")\n",
    "plt.xlabel=(\"City\")\n",
    "plt.ylabel=(\"Investments\")\n",
    "plt.bar(investor,count,width=0.8)\n",
    "plt.xticks(rotation=60)\n",
    "plt.show()\n",
    "for i in range(len(count)):\n",
    "    print(investor[i],count[i])\n",
    "    \n",
    "\n",
    "\n",
    "            \n",
    "\n",
    "\n",
    "        \n",
    "\n",
    "    \n",
    "\n"
   ]
  },
  {
   "cell_type": "code",
   "execution_count": null,
   "metadata": {},
   "outputs": [],
   "source": []
  }
 ],
 "metadata": {
  "kernelspec": {
   "display_name": "Python 3",
   "language": "python",
   "name": "python3"
  },
  "language_info": {
   "codemirror_mode": {
    "name": "ipython",
    "version": 3
   },
   "file_extension": ".py",
   "mimetype": "text/x-python",
   "name": "python",
   "nbconvert_exporter": "python",
   "pygments_lexer": "ipython3",
   "version": "3.7.4"
  }
 },
 "nbformat": 4,
 "nbformat_minor": 2
}
