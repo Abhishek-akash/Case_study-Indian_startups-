{
 "cells": [
  {
   "cell_type": "code",
   "execution_count": 3,
   "metadata": {},
   "outputs": [
    {
     "name": "stdout",
     "output_type": "stream",
     "text": [
      "Sequoia Capital 45\n",
      "Accel Partners 43\n",
      "Kalaari Capital 35\n",
      "Blume Ventures 27\n",
      "SAIF Partners 24\n"
     ]
    },
    {
     "data": {
      "image/png": "[encoded data removed]",
      "text/plain": [
       "<Figure size 432x288 with 1 Axes>"
      ]
     },
     "metadata": {
      "needs_background": "light"
     },
     "output_type": "display_data"
    }
   ],
   "source": [
    "# Open and read data file as specified in the question\n",
    "# Print the required output in given format\n",
    "import pandas as pd\n",
    "import numpy as np\n",
    "import collections\n",
    "import matplotlib.pyplot as plt\n",
    "#file=pd.read_csv('startup_funding.csv')\n",
    "file=pd.read_csv(r\"C:\\Users\\Dell\\Desktop\\startup_funding.csv\")\n",
    "df=file.copy()\n",
    "\n",
    "df['StartupName'].replace('Flipkart.com','Flipkart',inplace=True)\n",
    "df['StartupName'].replace('Ola Cabs','Ola',inplace=True)\n",
    "df['StartupName'].replace('Olacabs','Ola',inplace=True)\n",
    "df['StartupName'].replace('Oyo Rooms','Oyo',inplace=True)\n",
    "df['StartupName'].replace('Oyorooms','Oyo',inplace=True)\n",
    "df['StartupName'].replace('OyoRooms','Oyo',inplace=True)\n",
    "df['StartupName'].replace('OYO Rooms','Oyo',inplace=True)\n",
    "df['StartupName'].replace('Paytm Marketplace','Paytm',inplace=True)\n",
    "df[\"InvestmentType\"].replace(\"Crowd funding\",\"Crowd Funding\",inplace=True)\n",
    "df[\"InvestmentType\"].replace(\"PrivateEquity\",\"Private Equity\",inplace=True)\n",
    "df[\"InvestmentType\"].replace(\"SeedFunding\",\"Seed Funding\",inplace=True)\n",
    "df['InvestorsName'].replace('Undisclosed investors','Undisclosed Investors',inplace=True)\n",
    "df['InvestorsName'].replace('undisclosed investors','Undisclosed Investors',inplace=True)\n",
    "df['InvestorsName'].replace('Undisclosed Investor','Undisclosed Investors',inplace=True)\n",
    "df['InvestorsName'].replace('Undisclosed','Undisclosed Investors',inplace=True)\n",
    "df['InvestorsName'].replace('Undisclosed investor','Undisclosed Investors',inplace=True)\n",
    "df['InvestorsName'].replace('Undisclosed Investors','',inplace=True)\n",
    "df['StartupName'].fillna('Unknown',inplace=True)\n",
    "df['InvestorsName'].fillna('Unknown',inplace=True)\n",
    "df=df[(df[\"InvestmentType\"]== \"Private Equity\")]\n",
    "df.reset_index(inplace = True)\n",
    "\n",
    "\n",
    "\n",
    "\n",
    "\n",
    "ds=df['StartupName']\n",
    "di=df['InvestorsName']\n",
    "d={}\n",
    "i=0\n",
    "for ele in di:\n",
    "    p=str(ele)\n",
    "    q=p.split(\",\")\n",
    "    for e in q:\n",
    "        e=e.strip()\n",
    "        if e in d:\n",
    "            d[e]+=[ds[i]]\n",
    "        else:\n",
    "            d[e]=[ds[i]]\n",
    "    i=i+1\n",
    "\n",
    "for ele in d:\n",
    "    d[ele]=len(set(d[ele]))\n",
    "investor=[]\n",
    "count=[]\n",
    "for i in range(5):\n",
    "    max=-1\n",
    "    for ele in d:\n",
    "        if ele!=\"\":\n",
    "            if max<d[ele]:\n",
    "                max=d[ele]\n",
    "                ct=ele\n",
    "    count.append(max)\n",
    "    investor.append(ct)\n",
    "    del d[ct]\n",
    "for i in range(len(count)):\n",
    "    print(investor[i],count[i])\n",
    "plt.title(\"Investments of Private Equity\")\n",
    "plt.xlabel=\"Investors\"\n",
    "plt.ylabel=\"Investments\"\n",
    "plt.bar(investor,count,width=0.8)\n",
    "plt.xticks(rotation=60)\n",
    "plt.show()\n",
    "    \n",
    "\n",
    "\n",
    "            \n",
    "\n",
    "\n",
    "        \n",
    "\n",
    "    \n",
    "\n"
   ]
  },
  {
   "cell_type": "code",
   "execution_count": null,
   "metadata": {},
   "outputs": [],
   "source": []
  },
  {
   "cell_type": "code",
   "execution_count": null,
   "metadata": {},
   "outputs": [],
   "source": []
  },
  {
   "cell_type": "code",
   "execution_count": null,
   "metadata": {},
   "outputs": [],
   "source": []
  }
 ],
 "metadata": {
  "kernelspec": {
   "display_name": "Python 3",
   "language": "python",
   "name": "python3"
  },
  "language_info": {
   "codemirror_mode": {
    "name": "ipython",
    "version": 3
   },
   "file_extension": ".py",
   "mimetype": "text/x-python",
   "name": "python",
   "nbconvert_exporter": "python",
   "pygments_lexer": "ipython3",
   "version": "3.7.4"
  }
 },
 "nbformat": 4,
 "nbformat_minor": 2
}
