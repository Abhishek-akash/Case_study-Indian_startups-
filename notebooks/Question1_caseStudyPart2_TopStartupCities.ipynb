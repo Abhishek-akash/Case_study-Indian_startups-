{
 "cells": [
  {
   "cell_type": "code",
   "execution_count": null,
   "metadata": {},
   "outputs": [],
   "source": [
    "import csv\n",
    "import numpy as np\n",
    "import pandas as pd\n",
    "import matplotlib.pyplot as plt\n",
    "data__frame=pd.read_csv(r\"C:\\Users\\Dell\\Desktop\\startup_funding.csv\")\n",
    "df=data__frame.copy()\n",
    "#df=data__frame.copy()\n",
    "df['CityLocation'].dropna(inplace=True) \n",
    "def separateCity(city): \n",
    "    return city.split('/')[0].strip() \n",
    "df['CityLocation']=df['CityLocation'].apply(separateCity) \n",
    "df['CityLocation'].replace(\"Delhi\",\"New Delhi\",inplace=True) \n",
    "df['CityLocation'].replace(\"bangalore\",\"Bangalore\",inplace=True)\n",
    "df=df[(df[\"CityLocation\"]==\"Bangalore\") | (df[\"CityLocation\"]==\"Mumbai\") | (df[\"CityLocation\"]==\"New Delhi\") | (df[\"CityLocation\"]==\"Gurgaon\") | (df[\"CityLocation\"]==\"Noida\")]\n",
    "city_count=df.CityLocation.value_counts()\n",
    "no_of_startup=[]\n",
    "city=city_count.index\n",
    "for i in range(0,5):\n",
    "    no_of_startup.append(city_count[i])\n",
    "#plt.pie(no_of_startup,labels=city,autopct=\"%.2f\")\n",
    "plt.title(\"Investments in indian Cities\")\n",
    "plt.xlabel=(\"City\")\n",
    "plt.ylabel=(\"Investments\")\n",
    "x=plt.bar(city,no_of_startup,width=0.6)\n",
    "x[2].set_color(\"r\")\n",
    "x[3].set_color(\"r\")\n",
    "x[4].set_color(\"r\")\n",
    "plt.xticks(rotation=30)\n",
    "\n",
    "\n",
    "#plt.axis(\"equal\")\n",
    "plt.show()\n",
    "print(\"city\",\"       \",\"Investments\")\n",
    "print(\"-------------------------\")\n",
    "for i in range(0,5):\n",
    "    print(city[i],\"--->\",no_of_startup[i])\n",
    "    \n",
    "# Here we got the top 5 cities where a startup is expected to get investment.\n",
    "# Bars in Red color representing citiesof NCR.\n",
    "# New Delhi is best among the NCR.\n",
    "# Bangalore is best among all cities for getting investment for startup.\n",
    "    \n"
   ]
  },
  {
   "cell_type": "code",
   "execution_count": null,
   "metadata": {},
   "outputs": [],
   "source": []
  },
  {
   "cell_type": "code",
   "execution_count": null,
   "metadata": {},
   "outputs": [],
   "source": []
  }
 ],
 "metadata": {
  "kernelspec": {
   "display_name": "Python 3",
   "language": "python",
   "name": "python3"
  },
  "language_info": {
   "codemirror_mode": {
    "name": "ipython",
    "version": 3
   },
   "file_extension": ".py",
   "mimetype": "text/x-python",
   "name": "python",
   "nbconvert_exporter": "python",
   "pygments_lexer": "ipython3",
   "version": "3.7.4"
  }
 },
 "nbformat": 4,
 "nbformat_minor": 2
}
